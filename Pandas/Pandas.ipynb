{
 "cells": [
  {
   "cell_type": "markdown",
   "metadata": {},
   "source": [
    "# HW3: Pandas\n",
    "\n",
    "*Vì đây là bài tập về Pandas nên yêu cầu nói chung là không được dùng vòng lặp, cũng không được dùng phương thức apply/applymap; còn nếu chỗ nào mà được phép dùng thì mình sẽ nói rõ*\n",
    "\n",
    "Họ tên: Phan Xuân Hoài\n",
    "\n",
    "MSSV: 20120481"
   ]
  },
  {
   "cell_type": "markdown",
   "metadata": {},
   "source": [
    "---"
   ]
  },
  {
   "cell_type": "markdown",
   "metadata": {},
   "source": [
    "## Cách làm bài và nộp bài"
   ]
  },
  {
   "cell_type": "markdown",
   "metadata": {},
   "source": [
    "&#9889; Bạn lưu ý là mình sẽ dùng chương trình hỗ trợ chấm bài nên bạn cần phải tuân thủ chính xác qui định mà mình đặt ra, nếu không rõ thì hỏi, chứ không nên tự tiện làm theo ý của cá nhân.\n",
    "\n",
    "**Cách làm bài**\n",
    "\n",
    "Bạn sẽ làm trực tiếp trên file notebook này. Đầu tiên, bạn điền họ tên và MSSV vào phần đầu file ở bên trên. Trong file, bạn làm bài ở những chỗ có ghi là:\n",
    "```python\n",
    "# YOUR CODE HERE\n",
    "raise NotImplementedError()\n",
    "```\n",
    "hoặc đối với những phần code không bắt buộc thì là:\n",
    "```python\n",
    "# YOUR CODE HERE (OPTION)\n",
    "```\n",
    "hoặc đối với markdown cell thì là:\n",
    "```markdown\n",
    "YOUR ANSWER HERE\n",
    "```\n",
    "Tất nhiên, khi làm thì bạn xóa dòng `raise NotImplementedError()` đi.\n",
    "Đối những phần yêu cầu code thì thường ở ngay phía dưới sẽ có một (hoặc một số) cell chứa các bộ test để giúp bạn biết đã code đúng hay chưa; nếu chạy cell này không có lỗi gì thì có nghĩa là qua được các bộ test. Trong một số trường hợp, các bộ test có thể sẽ không đầy đủ; nghĩa là, nếu không qua được test thì là code sai, nhưng nếu qua được test thì chưa chắc đã đúng hoàn toàn.\n",
    "\n",
    "Trong khi làm bài, bạn có thể cho in ra màn hình, tạo thêm các cell để test. Nhưng khi nộp bài thì bạn xóa các cell mà bạn tự tạo, xóa hoặc comment các câu lệnh in ra màn hình. Bạn lưu ý <font color=red>không được tự tiện xóa các cell hay sửa code của Thầy</font> (trừ những chỗ được phép sửa như đã nói ở trên).\n",
    "\n",
    "Bạn cố gắng giữ cho code rõ ràng, ngăn nắp: đặt tên biến gợi ý, comment ở những chỗ cần comment, giữ cho một dòng code không quá dài (vì nếu không thì người đọc sẽ phải mất công scroll, bạn có thể dùng qui tắc: một dòng code chỉ nên có tối đa là 79 ký tự). \n",
    "\n",
    "Trong khi làm bài, thường xuyên `Ctrl + S` để lưu lại bài làm của bạn, tránh mất mát thông tin.\n",
    "\n",
    "\n",
    "*Nên nhớ mục tiêu chính ở đây là <font color=green>học, học một cách chân thật</font>. Bạn có thể thảo luận ý tưởng với bạn khác, nhưng <font color=green>code và bài làm phải là của bạn, dựa trên sự hiểu thật sự của bạn</font>. <font color=red>Nếu vi phạm thì sẽ bị 0 điểm cho toàn bộ môn học.</font>*\n",
    "\n",
    "**Cách nộp bài**\n",
    "\n",
    "Khi chấm bài, đầu tiên mình sẽ chọn `Kernel` - `Restart & Run All` để restart và chạy tất cả các cell trong notebook của bạn; do đó, trước khi nộp bài, bạn nên chạy thử `Kernel` - `Restart & Run All` để đảm bảo mọi chuyện diễn ra đúng như mong đợi.\n",
    "\n",
    "Sau đó, bạn tạo thư mục nộp bài theo cấu trúc sau:\n",
    "- Thư mục `MSSV` (vd, nếu bạn có MSSV là 1234567 thì bạn đặt tên thư mục là `1234567`)\n",
    "    - File `HW3.ipynb` (không cần nộp các file khác)\n",
    "\n",
    "Cuối cùng, bạn nén thư mục `MSSV` này lại và nộp ở link trên moodle. <font color=red>Bạn lưu ý tuân thủ chính xác qui định nộp bài.</font>"
   ]
  },
  {
   "cell_type": "markdown",
   "metadata": {},
   "source": [
    "---"
   ]
  },
  {
   "cell_type": "markdown",
   "metadata": {},
   "source": [
    "## Môi trường code"
   ]
  },
  {
   "cell_type": "markdown",
   "metadata": {},
   "source": [
    "Ta thống nhất trong môn này:\n",
    "- Code trên môi trường Linux (bạn đã setup ở HW0)\n",
    "- Dùng Jupyter Notebook hoặc Jupyter Lab để code file .ipynb. Lưu ý: bạn <font color=red>không dùng Google Colab</font>, vì Google Colab có thể xóa một số thông tin meta mà chương trình hỗ trợ chấm bài của mình đã tạo trong file bài tập\n",
    "- Dùng phiên bản các package như trong file \"min_ds-env.yml\" (bạn xem trong HW0 cách dùng Conda để tạo môi trường code từ file .yml và cách kích hoạt môi trường này sau khi đã tạo)"
   ]
  },
  {
   "cell_type": "code",
   "execution_count": 1,
   "metadata": {},
   "outputs": [
    {
     "data": {
      "text/plain": [
       "'/home/hoaiphan/miniconda3/envs/min_ds-env/bin/python'"
      ]
     },
     "execution_count": 1,
     "metadata": {},
     "output_type": "execute_result"
    }
   ],
   "source": [
    "import sys\n",
    "sys.executable"
   ]
  },
  {
   "cell_type": "markdown",
   "metadata": {},
   "source": [
    "Nếu không có vấn đề gì thì file chạy python sẽ là file của môi trường code \"min_ds-env\"."
   ]
  },
  {
   "cell_type": "markdown",
   "metadata": {},
   "source": [
    "---"
   ]
  },
  {
   "cell_type": "markdown",
   "metadata": {},
   "source": [
    "## Import các thư viện cần thiết"
   ]
  },
  {
   "cell_type": "code",
   "execution_count": 2,
   "metadata": {},
   "outputs": [],
   "source": [
    "import pandas as pd\n",
    "import matplotlib.pyplot as plt\n",
    "import numpy as np\n",
    "# YOUR CODE HERE (OPTION) \n",
    "import seaborn as sns"
   ]
  },
  {
   "cell_type": "markdown",
   "metadata": {},
   "source": [
    "---"
   ]
  },
  {
   "cell_type": "markdown",
   "metadata": {},
   "source": [
    "## Thu thập dữ liệu"
   ]
  },
  {
   "cell_type": "markdown",
   "metadata": {},
   "source": [
    "Trong bài này, ta sẽ dùng dữ liệu đã được thu thập sẵn là file \"mvt.csv\" đính kèm; đây là dữ liệu về tội phạm ăn cắp xe ở thành phố Chicago, bang Illinois, Hoa Kỳ (\"mvt\" là viết tắt của \"motor vehicle theft\"). Dữ liệu này được lấy từ khóa học \"The Analytics Edge\" ở trang edx.org, và gốc của dữ liệu là [ở đây](https://data.cityofchicago.org/Public-Safety/Crimes-2001-to-present/ijzp-q8t2)."
   ]
  },
  {
   "cell_type": "markdown",
   "metadata": {},
   "source": [
    "---"
   ]
  },
  {
   "cell_type": "markdown",
   "metadata": {},
   "source": [
    "## Khám phá dữ liệu"
   ]
  },
  {
   "cell_type": "markdown",
   "metadata": {},
   "source": [
    "### Đọc dữ liệu từ file csv vào dataframe"
   ]
  },
  {
   "cell_type": "code",
   "execution_count": 3,
   "metadata": {},
   "outputs": [
    {
     "name": "stderr",
     "output_type": "stream",
     "text": [
      "/home/hoaiphan/miniconda3/envs/min_ds-env/lib/python3.8/site-packages/IPython/core/interactiveshell.py:3139: DtypeWarning: Columns (6,7) have mixed types.Specify dtype option on import or set low_memory=False.\n",
      "  has_raised = await self.run_ast_nodes(code_ast.body, cell_name,\n"
     ]
    },
    {
     "data": {
      "text/html": [
       "<div>\n",
       "<style scoped>\n",
       "    .dataframe tbody tr th:only-of-type {\n",
       "        vertical-align: middle;\n",
       "    }\n",
       "\n",
       "    .dataframe tbody tr th {\n",
       "        vertical-align: top;\n",
       "    }\n",
       "\n",
       "    .dataframe thead th {\n",
       "        text-align: right;\n",
       "    }\n",
       "</style>\n",
       "<table border=\"1\" class=\"dataframe\">\n",
       "  <thead>\n",
       "    <tr style=\"text-align: right;\">\n",
       "      <th></th>\n",
       "      <th>ID</th>\n",
       "      <th>Date</th>\n",
       "      <th>LocationDescription</th>\n",
       "      <th>Arrest</th>\n",
       "      <th>Domestic</th>\n",
       "      <th>Beat</th>\n",
       "      <th>District</th>\n",
       "      <th>CommunityArea</th>\n",
       "      <th>Year</th>\n",
       "      <th>Latitude</th>\n",
       "      <th>Longitude</th>\n",
       "    </tr>\n",
       "  </thead>\n",
       "  <tbody>\n",
       "    <tr>\n",
       "      <th>0</th>\n",
       "      <td>8951354</td>\n",
       "      <td>12/31/12 23:15</td>\n",
       "      <td>STREET</td>\n",
       "      <td>False</td>\n",
       "      <td>False</td>\n",
       "      <td>623</td>\n",
       "      <td>6</td>\n",
       "      <td>69</td>\n",
       "      <td>2012</td>\n",
       "      <td>41.756284</td>\n",
       "      <td>-87.621645</td>\n",
       "    </tr>\n",
       "    <tr>\n",
       "      <th>1</th>\n",
       "      <td>8951141</td>\n",
       "      <td>12/31/12 22:00</td>\n",
       "      <td>STREET</td>\n",
       "      <td>False</td>\n",
       "      <td>False</td>\n",
       "      <td>1213</td>\n",
       "      <td>12</td>\n",
       "      <td>24</td>\n",
       "      <td>2012</td>\n",
       "      <td>41.898788</td>\n",
       "      <td>-87.661303</td>\n",
       "    </tr>\n",
       "    <tr>\n",
       "      <th>2</th>\n",
       "      <td>8952745</td>\n",
       "      <td>12/31/12 22:00</td>\n",
       "      <td>RESIDENTIAL YARD (FRONT/BACK)</td>\n",
       "      <td>False</td>\n",
       "      <td>False</td>\n",
       "      <td>1622</td>\n",
       "      <td>16</td>\n",
       "      <td>11</td>\n",
       "      <td>2012</td>\n",
       "      <td>41.969186</td>\n",
       "      <td>-87.767670</td>\n",
       "    </tr>\n",
       "    <tr>\n",
       "      <th>3</th>\n",
       "      <td>8952223</td>\n",
       "      <td>12/31/12 22:00</td>\n",
       "      <td>STREET</td>\n",
       "      <td>False</td>\n",
       "      <td>False</td>\n",
       "      <td>724</td>\n",
       "      <td>7</td>\n",
       "      <td>67</td>\n",
       "      <td>2012</td>\n",
       "      <td>41.769329</td>\n",
       "      <td>-87.657726</td>\n",
       "    </tr>\n",
       "    <tr>\n",
       "      <th>4</th>\n",
       "      <td>8951608</td>\n",
       "      <td>12/31/12 21:30</td>\n",
       "      <td>STREET</td>\n",
       "      <td>False</td>\n",
       "      <td>False</td>\n",
       "      <td>211</td>\n",
       "      <td>2</td>\n",
       "      <td>35</td>\n",
       "      <td>2012</td>\n",
       "      <td>41.837568</td>\n",
       "      <td>-87.621761</td>\n",
       "    </tr>\n",
       "  </tbody>\n",
       "</table>\n",
       "</div>"
      ],
      "text/plain": [
       "        ID            Date            LocationDescription  Arrest  Domestic  \\\n",
       "0  8951354  12/31/12 23:15                         STREET   False     False   \n",
       "1  8951141  12/31/12 22:00                         STREET   False     False   \n",
       "2  8952745  12/31/12 22:00  RESIDENTIAL YARD (FRONT/BACK)   False     False   \n",
       "3  8952223  12/31/12 22:00                         STREET   False     False   \n",
       "4  8951608  12/31/12 21:30                         STREET   False     False   \n",
       "\n",
       "   Beat District CommunityArea  Year   Latitude  Longitude  \n",
       "0   623        6            69  2012  41.756284 -87.621645  \n",
       "1  1213       12            24  2012  41.898788 -87.661303  \n",
       "2  1622       16            11  2012  41.969186 -87.767670  \n",
       "3   724        7            67  2012  41.769329 -87.657726  \n",
       "4   211        2            35  2012  41.837568 -87.621761  "
      ]
     },
     "execution_count": 3,
     "metadata": {},
     "output_type": "execute_result"
    }
   ],
   "source": [
    "mvt_df = pd.read_csv('mvt.csv')\n",
    "mvt_df.head()"
   ]
  },
  {
   "cell_type": "markdown",
   "metadata": {},
   "source": [
    "### Dữ liệu gồm có bao nhiêu dòng và bao nhiêu cột? (0.25đ)"
   ]
  },
  {
   "cell_type": "markdown",
   "metadata": {},
   "source": [
    "Bạn tính số dòng và số cột (không được code cứng con số) và lần lượt lưu vào 2 biến là `num_rows` và `num_cols`. "
   ]
  },
  {
   "cell_type": "code",
   "execution_count": 4,
   "metadata": {
    "deletable": false,
    "nbgrader": {
     "cell_type": "code",
     "checksum": "0a03dc9216c2e34b0151074d168e31a3",
     "grade": false,
     "grade_id": "cell-bc8810dbc4930a46",
     "locked": false,
     "schema_version": 3,
     "solution": true,
     "task": false
    }
   },
   "outputs": [],
   "source": [
    "# YOUR CODE HERE\n",
    "num_rows, num_cols = mvt_df.shape"
   ]
  },
  {
   "cell_type": "code",
   "execution_count": 5,
   "metadata": {
    "deletable": false,
    "editable": false,
    "nbgrader": {
     "cell_type": "code",
     "checksum": "9a48e11795f58c3f5d0bba0cf1d9c766",
     "grade": true,
     "grade_id": "cell-41d8eb768a571d35",
     "locked": true,
     "points": 0.25,
     "schema_version": 3,
     "solution": false,
     "task": false
    }
   },
   "outputs": [],
   "source": [
    "# TEST\n",
    "assert num_rows == 191641\n",
    "assert num_cols == 11"
   ]
  },
  {
   "cell_type": "markdown",
   "metadata": {},
   "source": [
    "### Mỗi dòng có ý nghĩa gì? Có vấn đề các dòng có ý nghĩa khác nhau không?"
   ]
  },
  {
   "cell_type": "markdown",
   "metadata": {},
   "source": [
    "Theo mô tả dữ liệu của khóa học \"The Analytics Edge\" và theo quan sát sơ bộ về dữ liệu thì một dòng cho biết thông tin của một vụ phạm tội. Có vẻ không có dòng nào bị \"lạc loài\"."
   ]
  },
  {
   "cell_type": "markdown",
   "metadata": {},
   "source": [
    "### Dữ liệu có các dòng bị lặp không? (0.5đ)"
   ]
  },
  {
   "cell_type": "markdown",
   "metadata": {},
   "source": [
    "Bạn sẽ kiểm tra vụ này và lưu kết quả vào biến `have_duplicated_rows`. Biến này sẽ có giá trị True nếu dữ liệu có các dòng bị lặp và có giá trị False nếu ngược. Gợi ý: dataframe có phương thức `duplicated`."
   ]
  },
  {
   "cell_type": "code",
   "execution_count": 6,
   "metadata": {
    "deletable": false,
    "nbgrader": {
     "cell_type": "code",
     "checksum": "14923eae51d859512c15219a5d64f72d",
     "grade": false,
     "grade_id": "cell-facf998546c4dfeb",
     "locked": false,
     "schema_version": 3,
     "solution": true,
     "task": false
    }
   },
   "outputs": [],
   "source": [
    "# YOUR CODE HERE\n",
    "have_duplicated_rows = mvt_df.duplicated().sum() > 0"
   ]
  },
  {
   "cell_type": "code",
   "execution_count": 7,
   "metadata": {
    "deletable": false,
    "editable": false,
    "nbgrader": {
     "cell_type": "code",
     "checksum": "6b284609bcbb8ec5d7955bbc55ca3cf9",
     "grade": true,
     "grade_id": "cell-185c9c090ebb1b30",
     "locked": true,
     "points": 0.5,
     "schema_version": 3,
     "solution": false,
     "task": false
    }
   },
   "outputs": [],
   "source": [
    "# TEST\n",
    "assert have_duplicated_rows == False"
   ]
  },
  {
   "cell_type": "markdown",
   "metadata": {},
   "source": [
    "### Mỗi cột có ý nghĩa gì?"
   ]
  },
  {
   "cell_type": "markdown",
   "metadata": {},
   "source": [
    "Dưới đây là phần mô tả của khóa học \"The Analytics Edge\" về các cột trong file \"mvt.csv\":\n",
    "- **ID**: a unique identifier for each observation.\n",
    "- **Date**: the date the crime occurred.\n",
    "- **LocationDescription**: the location where the crime occurred.\n",
    "- **Arrest**: whether or not an arrest was made for the crime (TRUE if an arrest was made, and FALSE if an arrest was not made).\n",
    "- **Domestic**: whether or not the crime was a domestic crime, meaning that it was committed against a family member (TRUE if it was domestic, and FALSE if it was not domestic).\n",
    "- **Beat**: the area, or \"beat\" in which the crime occurred. This is the smallest regional division defined by the Chicago police department.\n",
    "- **District**: the police district in which the crime occured. Each district is composed of many beats, and are defined by the Chicago Police Department.\n",
    "- **CommunityArea**: the community area in which the crime occurred. Since the 1920s, Chicago has been divided into what are called \"community areas\", of which there are now 77. The community areas were devised in an attempt to create socially homogeneous regions.\n",
    "- **Year**: the year in which the crime occurred.\n",
    "- **Latitude**: the latitude of the location at which the crime occurred.\n",
    "- **Longitude**: the longitude of the location at which the crime occurred."
   ]
  },
  {
   "cell_type": "markdown",
   "metadata": {},
   "source": [
    "### Mỗi cột hiện đang có kiểu dữ liệu gì? Có cột nào có kiểu dữ liệu chưa phù hợp để có thể xử lý tiếp không? (0.75đ)"
   ]
  },
  {
   "cell_type": "markdown",
   "metadata": {},
   "source": [
    "Bạn lấy `dtype` (kiểu dữ liệu của mỗi phần tử) của mỗi cột trong `mvt_df` và lưu kết quả vào series `col_dtypes`; series này có index là tên cột. "
   ]
  },
  {
   "cell_type": "code",
   "execution_count": 8,
   "metadata": {
    "deletable": false,
    "nbgrader": {
     "cell_type": "code",
     "checksum": "96e1fdd8f9e7fa97311e690dcdea495b",
     "grade": false,
     "grade_id": "cell-e7c33d274bed2b0c",
     "locked": false,
     "schema_version": 3,
     "solution": true,
     "task": false
    }
   },
   "outputs": [
    {
     "data": {
      "text/plain": [
       "ID                       int64\n",
       "Date                    object\n",
       "LocationDescription     object\n",
       "Arrest                    bool\n",
       "Domestic                  bool\n",
       "Beat                     int64\n",
       "District                object\n",
       "CommunityArea           object\n",
       "Year                     int64\n",
       "Latitude               float64\n",
       "Longitude              float64\n",
       "dtype: object"
      ]
     },
     "execution_count": 8,
     "metadata": {},
     "output_type": "execute_result"
    }
   ],
   "source": [
    "# YOUR CODE HERE\n",
    "col_dtypes = mvt_df.dtypes\n",
    "col_dtypes"
   ]
  },
  {
   "cell_type": "code",
   "execution_count": 9,
   "metadata": {
    "deletable": false,
    "editable": false,
    "nbgrader": {
     "cell_type": "code",
     "checksum": "377ae4306301529c44f6c0021f578899",
     "grade": true,
     "grade_id": "cell-84a2c0629f12e655",
     "locked": true,
     "points": 0.25,
     "schema_version": 3,
     "solution": false,
     "task": false
    }
   },
   "outputs": [],
   "source": [
    "# TEST\n",
    "assert col_dtypes['ID'] in [np.int64, np.int32]\n",
    "assert col_dtypes['Beat'] in [np.int64, np.int32]\n",
    "assert col_dtypes['Year'] in [np.int64, np.int32]\n",
    "assert col_dtypes['Latitude'] in [np.float64, np.float32]\n",
    "assert col_dtypes['Longitude'] in [np.float64, np.float32]\n",
    "assert col_dtypes['Date'] == object\n",
    "assert col_dtypes['LocationDescription'] == object\n",
    "assert col_dtypes['District'] == object\n",
    "assert col_dtypes['CommunityArea'] == object\n",
    "assert col_dtypes['Arrest'] == bool\n",
    "assert col_dtypes['Domestic'] == bool"
   ]
  },
  {
   "cell_type": "markdown",
   "metadata": {},
   "source": [
    "**Cột có dtype là object nghĩa là sao?**"
   ]
  },
  {
   "cell_type": "markdown",
   "metadata": {},
   "source": [
    "`mvt_df` có 4 cột có `dtype` là `object`: \"Date\", \"LocationDescription\", \"District\", \"CommunityArea\". Trong Pandas, kiểu dữ liệu `object` thường ám chỉ chuỗi, nhưng thật ra kiểu dữ liệu `object` có thể chứa một đối tượng bất kỳ trong Python (vì thật ra ở bên dưới kiểu dữ liệu `object` chứa địa chỉ). Nếu một cột trong dataframe có `dtype` là `object` thì có thể các phần tử trong cột này sẽ có kiểu dữ liệu khác nhau; để biết được kiểu dữ liệu thật sự của các phần tử trong cột này thì ta phải truy xuất vào từng phần tử và dùng câu lệnh `type` để xem kiểu dữ liệu, ví dụ `type(s.iloc[i])` với `s` là một cột. Lúc đọc dữ liệu từ file \"mvt.csv\" lên, nếu bạn để ý thì sẽ thấy warning là: \"Columns (6,7) have mixed types\", nghĩa là cột 6 (\"District\") và 7 (\"CommunityArea\") có `dtype` không đồng nhất (trong nội bộ mỗi cột). Ta muốn xem thử trong nội bộ mỗi cột này có các kiểu dữ liệu nào.\n",
    "\n",
    "Công việc của bạn là viết hàm nhận đầu vào là một cột `s` (series) có `dtype` là `object` và trả về tập các kiểu dữ liệu thật sự có trong cột này. Trong hàm này, bạn có thể dùng phương thức `apply` của series."
   ]
  },
  {
   "cell_type": "code",
   "execution_count": 10,
   "metadata": {
    "deletable": false,
    "nbgrader": {
     "cell_type": "code",
     "checksum": "584650ddec44ef314602d9923b1d8bac",
     "grade": false,
     "grade_id": "cell-9c4658645a61bd6e",
     "locked": false,
     "schema_version": 3,
     "solution": true,
     "task": false
    }
   },
   "outputs": [],
   "source": [
    "def open_object_dtype(s):\n",
    "    dtypes = set()\n",
    "    \n",
    "    # YOUR CODE HERE\n",
    "    dtypes = set(s.apply(type))\n",
    "    return dtypes"
   ]
  },
  {
   "cell_type": "code",
   "execution_count": 11,
   "metadata": {
    "deletable": false,
    "editable": false,
    "nbgrader": {
     "cell_type": "code",
     "checksum": "ce472e6d96c28ba141044b1b1da454d3",
     "grade": true,
     "grade_id": "cell-f767e07e65480668",
     "locked": true,
     "points": 0.5,
     "schema_version": 3,
     "solution": false,
     "task": false
    }
   },
   "outputs": [],
   "source": [
    "# TEST\n",
    "assert open_object_dtype(mvt_df['Date']) == {str}\n",
    "assert open_object_dtype(mvt_df['LocationDescription']) == {str}\n",
    "assert open_object_dtype(mvt_df['District']) == {str, float}\n",
    "assert open_object_dtype(mvt_df['CommunityArea']) == {str, float}"
   ]
  },
  {
   "cell_type": "markdown",
   "metadata": {},
   "source": [
    "**Vấn đề cần tiền xử lý:**\n",
    "\n",
    "- Cột \"Date\" đang có dtype là `str`. Để có thể tiếp tục khám phá thêm về cột này, ta sẽ thực hiện bước tiền xử lý là chuyển sang dạng `datetime`.\n",
    "- Cột \"District\" và \"CommunityArea\" có dtype gồm 2 loại là `str` và `float`. Nếu kiểm tra thêm thì bạn sẽ thấy `float` là ứng với `NaN`, còn `str` là ứng với mã (dạng số) của \"District\" hoặc \"CommunityArea\". Tuy nhiên, cũng có trường hợp mã là `float` (ví dụ, cột \"CommunityArea\", index 131072). Để có thể tiếp tục khám phá thêm về 2 cột này, ta cũng sẽ thực hiện bước tiền xử lý là chuyển tất cả sang dtype là `float`."
   ]
  },
  {
   "cell_type": "markdown",
   "metadata": {},
   "source": [
    "---"
   ]
  },
  {
   "cell_type": "markdown",
   "metadata": {},
   "source": [
    "## Tiền xử lý"
   ]
  },
  {
   "cell_type": "markdown",
   "metadata": {},
   "source": [
    "### Chuyển dtype của cột \"Date\" sang datetime (0.5đ)"
   ]
  },
  {
   "cell_type": "markdown",
   "metadata": {},
   "source": [
    "Bạn hãy chuyển `dtype` của cột \"Date\" sang kiểu dữ liệu thời gian (sau khi làm xong thì cột \"Date\" trong `mvt_df` phải thay đổi `dtype`). Gợi ý: bạn có thể dùng câu lệnh `pd.to_datetime`; khi dùng `pd.to_datetime`, bạn truyền giá trị phù hợp cho tham số `format` (nếu không thì sẽ chạy rất chậm vì Pandas phải đoán format)."
   ]
  },
  {
   "cell_type": "code",
   "execution_count": 12,
   "metadata": {
    "deletable": false,
    "nbgrader": {
     "cell_type": "code",
     "checksum": "ddf290b1ea2092ab7a32e6b7921c0406",
     "grade": false,
     "grade_id": "cell-39a0a94d173359e5",
     "locked": false,
     "schema_version": 3,
     "solution": true,
     "task": false
    }
   },
   "outputs": [],
   "source": [
    "# YOUR CODE HERE\n",
    "# mvt_df['Date'] = mvt_df['Date'].astype('datetime64[ns]')\n",
    "mvt_df['Date'] = pd.to_datetime(mvt_df['Date'],format='%m/%d/%y %H:%M')"
   ]
  },
  {
   "cell_type": "code",
   "execution_count": 13,
   "metadata": {
    "deletable": false,
    "editable": false,
    "nbgrader": {
     "cell_type": "code",
     "checksum": "5f6923410d6fed98c9381e1f46596010",
     "grade": true,
     "grade_id": "cell-8d966ec31928fc64",
     "locked": true,
     "points": 0.5,
     "schema_version": 3,
     "solution": false,
     "task": false
    }
   },
   "outputs": [],
   "source": [
    "# TEST \n",
    "# Nếu dtype của cột \"Date\" đã được chuyển sang datetime thì phải dùng được .dt.\n",
    "assert mvt_df['Date'].dt.year.min() == 2001 "
   ]
  },
  {
   "cell_type": "markdown",
   "metadata": {},
   "source": [
    "### Chuyển dtype của cột \"District\" và \"CommunityArea\" sang float (0.5đ)"
   ]
  },
  {
   "cell_type": "markdown",
   "metadata": {},
   "source": [
    "Bạn hãy chuyển `dtype` của cột \"District\" và \"CommunityArea\" sang `float` (sau khi làm xong thì cột \"District\" và \"CommunityArea\" trong `mvt_df` phải thay đổi `dtype`). Nếu bạn thử chuyển thì sẽ bị báo lỗi vì trong các cột này có giá trị là \" \" (chuỗi có một khoảng trắng). Vậy thì trước khi chuyển, bạn phải replace các giá trị \" \" bằng NaN.  "
   ]
  },
  {
   "cell_type": "code",
   "execution_count": 14,
   "metadata": {
    "deletable": false,
    "nbgrader": {
     "cell_type": "code",
     "checksum": "04e2fbb9a221dd48d795c26dcab9017e",
     "grade": false,
     "grade_id": "cell-82a6fc90114be977",
     "locked": false,
     "schema_version": 3,
     "solution": true,
     "task": false
    }
   },
   "outputs": [],
   "source": [
    "# YOUR CODE HERE\n",
    "mask = mvt_df['District'] == \" \"\n",
    "mvt_df.loc[mask,'District'] = np.NaN\n",
    "mvt_df['District'] = mvt_df['District'].astype(float)\n",
    "\n",
    "mask = mvt_df['CommunityArea'] == \" \"\n",
    "mvt_df.loc[mask,'CommunityArea'] = np.NaN\n",
    "mvt_df['CommunityArea'] = mvt_df['CommunityArea'].astype(float)"
   ]
  },
  {
   "cell_type": "code",
   "execution_count": 15,
   "metadata": {
    "deletable": false,
    "editable": false,
    "nbgrader": {
     "cell_type": "code",
     "checksum": "ecb7f5dee613878e4b93d951cc2c68d4",
     "grade": true,
     "grade_id": "cell-02292b1dd9159219",
     "locked": true,
     "points": 0.5,
     "schema_version": 3,
     "solution": false,
     "task": false
    }
   },
   "outputs": [],
   "source": [
    "# TEST\n",
    "assert mvt_df['District'].dtype in [np.float32, np.float64]\n",
    "assert mvt_df['CommunityArea'].dtype in [np.float32, np.float64]"
   ]
  },
  {
   "cell_type": "markdown",
   "metadata": {},
   "source": [
    "---"
   ]
  },
  {
   "cell_type": "markdown",
   "metadata": {},
   "source": [
    "## Khám phá dữ liệu (tiếp tục)"
   ]
  },
  {
   "cell_type": "markdown",
   "metadata": {},
   "source": [
    "### Với mỗi cột có kiểu dữ liệu dạng numeric, các giá trị được phân bố như thế nào? (0.5đ)"
   ]
  },
  {
   "cell_type": "markdown",
   "metadata": {},
   "source": [
    "Ta sẽ xếp các cột datetime vào nhóm numeric luôn. Hiện có 8 cột có vẻ là thuộc nhóm numeric: \"ID\", \"Date\", \"Beat\", \"District\", \"CommunityArea\", \"Year\", \"Latitude\", \"Longitude\". Tuy nhiên, 4 cột \"ID\", \"Beat\", \"District\", \"CommunityArea\" thật ra là dạng categorical (vì là mã được đánh dưới dạng số). Như vậy, chỉ có 4 cột numeric là \"Date\", \"Year\", \"Latitude\", \"Longitude\". \n",
    "\n",
    "Với mỗi cột numeric bạn sẽ tính tỉ lệ % giá trị thiếu (từ 0 đến 100), min, max. Bạn lưu kết quả vào dataframe `nume_col_profiles_df`. Dataframe này có 3 dòng là \"missing_ratio\", \"min\", \"max\"; và có 4 cột là \"Date\", \"Year\", \"Latitude\", \"Longitude\".  "
   ]
  },
  {
   "cell_type": "code",
   "execution_count": 16,
   "metadata": {
    "deletable": false,
    "nbgrader": {
     "cell_type": "code",
     "checksum": "95f164d4ff7a5ee9869dbcc8e0c31d32",
     "grade": false,
     "grade_id": "cell-4c64c2ce1eea9f1d",
     "locked": false,
     "schema_version": 3,
     "solution": true,
     "task": false
    }
   },
   "outputs": [
    {
     "data": {
      "text/html": [
       "<div>\n",
       "<style scoped>\n",
       "    .dataframe tbody tr th:only-of-type {\n",
       "        vertical-align: middle;\n",
       "    }\n",
       "\n",
       "    .dataframe tbody tr th {\n",
       "        vertical-align: top;\n",
       "    }\n",
       "\n",
       "    .dataframe thead th {\n",
       "        text-align: right;\n",
       "    }\n",
       "</style>\n",
       "<table border=\"1\" class=\"dataframe\">\n",
       "  <thead>\n",
       "    <tr style=\"text-align: right;\">\n",
       "      <th></th>\n",
       "      <th>Date</th>\n",
       "      <th>Year</th>\n",
       "      <th>Latitude</th>\n",
       "      <th>Longitude</th>\n",
       "    </tr>\n",
       "  </thead>\n",
       "  <tbody>\n",
       "    <tr>\n",
       "      <th>missing_ratio</th>\n",
       "      <td>0.0</td>\n",
       "      <td>0.0</td>\n",
       "      <td>1.187637</td>\n",
       "      <td>1.187637</td>\n",
       "    </tr>\n",
       "    <tr>\n",
       "      <th>min</th>\n",
       "      <td>2001-01-01 00:01:00</td>\n",
       "      <td>2001.0</td>\n",
       "      <td>41.644710</td>\n",
       "      <td>-87.925510</td>\n",
       "    </tr>\n",
       "    <tr>\n",
       "      <th>max</th>\n",
       "      <td>2012-12-31 23:15:00</td>\n",
       "      <td>2012.0</td>\n",
       "      <td>42.022878</td>\n",
       "      <td>-87.524676</td>\n",
       "    </tr>\n",
       "  </tbody>\n",
       "</table>\n",
       "</div>"
      ],
      "text/plain": [
       "                              Date    Year   Latitude  Longitude\n",
       "missing_ratio                  0.0     0.0   1.187637   1.187637\n",
       "min            2001-01-01 00:01:00  2001.0  41.644710 -87.925510\n",
       "max            2012-12-31 23:15:00  2012.0  42.022878 -87.524676"
      ]
     },
     "execution_count": 16,
     "metadata": {},
     "output_type": "execute_result"
    }
   ],
   "source": [
    "# YOUR CODE HERE\n",
    "missing_ratio = np.mean(mvt_df[[\"Date\", \"Year\", \"Latitude\", \"Longitude\"]].isna())*100\n",
    "missing_ratio = pd.DataFrame(missing_ratio).T\n",
    "# nume_col_profiles_df = \n",
    "min_df = mvt_df[[\"Date\", \"Year\", \"Latitude\", \"Longitude\"]].min()\n",
    "max_df = mvt_df[[\"Date\", \"Year\", \"Latitude\", \"Longitude\"]].max()\n",
    "min_max_df = pd.concat([min_df,max_df],axis=1).T\n",
    "nume_col_profiles_df = pd.concat([missing_ratio, min_max_df])\n",
    "nume_col_profiles_df = nume_col_profiles_df.set_axis(['missing_ratio','min','max'])\n",
    "\n",
    "#convert type to float\n",
    "nume_col_profiles_df[['Year','Latitude','Longitude']] = nume_col_profiles_df[['Year',\n",
    "                                                                              'Latitude','Longitude']].astype('float')\n",
    "nume_col_profiles_df"
   ]
  },
  {
   "cell_type": "code",
   "execution_count": 17,
   "metadata": {
    "deletable": false,
    "editable": false,
    "nbgrader": {
     "cell_type": "code",
     "checksum": "4637556038e96ab4c3eb85fcb491c6b1",
     "grade": true,
     "grade_id": "cell-d148b332b71aabcc",
     "locked": true,
     "points": 0.5,
     "schema_version": 3,
     "solution": false,
     "task": false
    }
   },
   "outputs": [],
   "source": [
    "## TEST\n",
    "df = nume_col_profiles_df\n",
    "assert dict(df['Date']) == \\\n",
    "                    {'missing_ratio': 0.0,\n",
    "                     'min': pd.Timestamp('2001-01-01 00:01:00'),\n",
    "                     'max': pd.Timestamp('2012-12-31 23:15:00')}\n",
    "assert dict(df['Year']) == {'missing_ratio': 0.0, \n",
    "                            'min': 2001.0, \n",
    "                            'max': 2012.0}\n",
    "assert dict(df['Latitude'].round(3)) == {'missing_ratio': 1.188, \n",
    "                                         'min': 41.645, \n",
    "                                         'max': 42.023}\n",
    "assert dict(df['Longitude'].round(3)) == {'missing_ratio': 1.188,\n",
    "                                          'min': -87.926, \n",
    "                                          'max': -87.525}"
   ]
  },
  {
   "cell_type": "markdown",
   "metadata": {},
   "source": [
    "Min và max của các cột có vẻ không có gì bất thường."
   ]
  },
  {
   "cell_type": "markdown",
   "metadata": {},
   "source": [
    "### Với mỗi cột có kiểu dữ liệu dạng categorical, các giá trị được phân bố như thế nào? (0.75đ)"
   ]
  },
  {
   "cell_type": "markdown",
   "metadata": {},
   "source": [
    "`mvt_df` có 7 cột categorical là \"ID\", \"LocationDescription\", \"Arrest\", \"Domestic\", \"Beat\", \"District\", \"CommunityArea\".\n",
    "\n",
    "Với mỗi cột categorical, bạn tính tỉ lệ % giá trị thiếu (từ 0 đến 100), số lượng giá trị khác nhau (không xét giá trị thiếu), list/array các giá trị khác nhau (không xét giá trị thiếu). Bạn lưu kết quả vào dataframe `cate_col_profiles_df`. Dataframe này có 3 dòng là \"missing_ratio\", \"num_diff_vals\", \"diff_vals\"; và có 7 cột là \"ID\", \"LocationDescription\", \"Arrest\", \"Domestic\", \"Beat\", \"District\", \"CommunityArea\". "
   ]
  },
  {
   "cell_type": "code",
   "execution_count": 18,
   "metadata": {
    "deletable": false,
    "nbgrader": {
     "cell_type": "code",
     "checksum": "35296018f9eb13360b7c8c16620dd5e7",
     "grade": false,
     "grade_id": "cell-22007ecdcdfa0acc",
     "locked": false,
     "schema_version": 3,
     "solution": true,
     "task": false
    }
   },
   "outputs": [
    {
     "data": {
      "text/html": [
       "<div>\n",
       "<style scoped>\n",
       "    .dataframe tbody tr th:only-of-type {\n",
       "        vertical-align: middle;\n",
       "    }\n",
       "\n",
       "    .dataframe tbody tr th {\n",
       "        vertical-align: top;\n",
       "    }\n",
       "\n",
       "    .dataframe thead th {\n",
       "        text-align: right;\n",
       "    }\n",
       "</style>\n",
       "<table border=\"1\" class=\"dataframe\">\n",
       "  <thead>\n",
       "    <tr style=\"text-align: right;\">\n",
       "      <th></th>\n",
       "      <th>ID</th>\n",
       "      <th>LocationDescription</th>\n",
       "      <th>Arrest</th>\n",
       "      <th>Domestic</th>\n",
       "      <th>Beat</th>\n",
       "      <th>District</th>\n",
       "      <th>CommunityArea</th>\n",
       "    </tr>\n",
       "  </thead>\n",
       "  <tbody>\n",
       "    <tr>\n",
       "      <th>missing_ratio</th>\n",
       "      <td>0.0</td>\n",
       "      <td>0.0</td>\n",
       "      <td>0.0</td>\n",
       "      <td>0.0</td>\n",
       "      <td>0.0</td>\n",
       "      <td>22.467009</td>\n",
       "      <td>12.844851</td>\n",
       "    </tr>\n",
       "    <tr>\n",
       "      <th>num_diff_vals</th>\n",
       "      <td>191641</td>\n",
       "      <td>78</td>\n",
       "      <td>2</td>\n",
       "      <td>2</td>\n",
       "      <td>300</td>\n",
       "      <td>26</td>\n",
       "      <td>78</td>\n",
       "    </tr>\n",
       "    <tr>\n",
       "      <th>diff_vals</th>\n",
       "      <td>[8951354, 8951141, 8952745, 8952223, 8951608, ...</td>\n",
       "      <td>[STREET, RESIDENTIAL YARD (FRONT/BACK), GAS ST...</td>\n",
       "      <td>[False, True]</td>\n",
       "      <td>[False, True]</td>\n",
       "      <td>[623, 1213, 1622, 724, 211, 2521, 423, 231, 10...</td>\n",
       "      <td>[6.0, 12.0, 16.0, 7.0, 2.0, 25.0, 4.0, 10.0, 9...</td>\n",
       "      <td>[69.0, 24.0, 11.0, 67.0, 35.0, 19.0, 48.0, 40....</td>\n",
       "    </tr>\n",
       "  </tbody>\n",
       "</table>\n",
       "</div>"
      ],
      "text/plain": [
       "                                                              ID  \\\n",
       "missing_ratio                                                0.0   \n",
       "num_diff_vals                                             191641   \n",
       "diff_vals      [8951354, 8951141, 8952745, 8952223, 8951608, ...   \n",
       "\n",
       "                                             LocationDescription  \\\n",
       "missing_ratio                                                0.0   \n",
       "num_diff_vals                                                 78   \n",
       "diff_vals      [STREET, RESIDENTIAL YARD (FRONT/BACK), GAS ST...   \n",
       "\n",
       "                      Arrest       Domestic  \\\n",
       "missing_ratio            0.0            0.0   \n",
       "num_diff_vals              2              2   \n",
       "diff_vals      [False, True]  [False, True]   \n",
       "\n",
       "                                                            Beat  \\\n",
       "missing_ratio                                                0.0   \n",
       "num_diff_vals                                                300   \n",
       "diff_vals      [623, 1213, 1622, 724, 211, 2521, 423, 231, 10...   \n",
       "\n",
       "                                                        District  \\\n",
       "missing_ratio                                          22.467009   \n",
       "num_diff_vals                                                 26   \n",
       "diff_vals      [6.0, 12.0, 16.0, 7.0, 2.0, 25.0, 4.0, 10.0, 9...   \n",
       "\n",
       "                                                   CommunityArea  \n",
       "missing_ratio                                          12.844851  \n",
       "num_diff_vals                                                 78  \n",
       "diff_vals      [69.0, 24.0, 11.0, 67.0, 35.0, 19.0, 48.0, 40....  "
      ]
     },
     "execution_count": 18,
     "metadata": {},
     "output_type": "execute_result"
    }
   ],
   "source": [
    "# YOUR CODE HERE\n",
    "cate_name = [\"ID\", \"LocationDescription\", \"Arrest\", \"Domestic\", \"Beat\", \"District\", \"CommunityArea\"]\n",
    "missing_ratio = np.mean(mvt_df[cate_name].isna())*100\n",
    "missing_ratio_df = pd.DataFrame(missing_ratio, columns=['missing_ratio']).T\n",
    "\n",
    "cate_col_dict = {}\n",
    "for col_name in cate_name:\n",
    "    cate_col_dict.setdefault(col_name, [])\n",
    "    \n",
    "    # Lấy ra các giá trị khác nhau không chứa giá trị nan và tính số lượng\n",
    "    unique_val = mvt_df.loc[:,col_name].dropna().unique()\n",
    "    unique_size = unique_val.size\n",
    "    \n",
    "    #Thêm các gía trị trên vào key tương ứng trong list\n",
    "    cate_col_dict[col_name].append(unique_size)\n",
    "    cate_col_dict[col_name].append(unique_val)\n",
    "    \n",
    "cate_col_profiles_df = pd.DataFrame(cate_col_dict, index=['num_diff_vals', 'diff_vals'])\n",
    "cate_col_profiles_df = pd.concat([missing_ratio_df, cate_col_profiles_df], axis = 0)\n",
    "\n",
    "cate_col_profiles_df"
   ]
  },
  {
   "cell_type": "code",
   "execution_count": 19,
   "metadata": {
    "deletable": false,
    "editable": false,
    "nbgrader": {
     "cell_type": "code",
     "checksum": "67f51e22da093a2d3452c613b4069b81",
     "grade": true,
     "grade_id": "cell-a4cbf35ddac608bb",
     "locked": true,
     "points": 0.75,
     "schema_version": 3,
     "solution": false,
     "task": false
    }
   },
   "outputs": [],
   "source": [
    "# TEST\n",
    "df = cate_col_profiles_df\n",
    "assert dict(df.loc['missing_ratio'].astype(float).round(3)) == \\\n",
    "                                    {'ID': 0.0,\n",
    "                                     'LocationDescription': 0.0,\n",
    "                                     'Arrest': 0.0,\n",
    "                                     'Domestic': 0.0,\n",
    "                                     'Beat': 0.0,\n",
    "                                     'District': 22.467,\n",
    "                                     'CommunityArea': 12.845}\n",
    "assert dict(df.loc['num_diff_vals'].astype(int)) == \\\n",
    "                                    {'ID': 191641,\n",
    "                                     'LocationDescription': 78, \n",
    "                                     'Arrest': 2,\n",
    "                                     'Domestic': 2,\n",
    "                                     'Beat': 300, \n",
    "                                     'District': 26, \n",
    "                                     'CommunityArea': 78}\n",
    "assert dict(df.loc['diff_vals'].apply(len)) == \\\n",
    "                                    {'ID': 191641,\n",
    "                                     'LocationDescription': 78,\n",
    "                                     'Arrest': 2,\n",
    "                                     'Domestic': 2,\n",
    "                                     'Beat': 300, \n",
    "                                     'District': 26, \n",
    "                                     'CommunityArea': 78}"
   ]
  },
  {
   "cell_type": "markdown",
   "metadata": {},
   "source": [
    "### Làm rõ hơn về ý nghĩa của các cột \"Beat\", \"District\", \"CommunityArea\" (1.25đ)"
   ]
  },
  {
   "cell_type": "markdown",
   "metadata": {},
   "source": [
    "Theo mô tả của khóa học \"The Analytics Edge\":\n",
    "- **Beat**: the area, or \"beat\" in which the crime occurred. This is the smallest regional division defined by the Chicago police department.\n",
    "- **District**: the police district in which the crime occured. Each district is composed of many beats, and are defined by the Chicago Police Department.\n",
    "- **CommunityArea**: the community area in which the crime occurred. Since the 1920s, Chicago has been divided into what are called \"community areas\", of which there are now 77. The community areas were devised in an attempt to create socially homogeneous regions.\n",
    "\n",
    "Như vậy, \"Beat\" là đơn vị nhỏ nhất, \"District\" thì gồm nhiều \"Beat\". Vậy có phải là các \"District\" không bị overlap với nhau không? (không có trường hợp mà một \"Beat\" vừa thuộc \"District\" này, vừa thuộc \"District\" kia). Và mỗi \"CommunityArea\" là gồm nhiều \"Beat\" và cũng không overlap với nhau? Để trả lời cho hai câu hỏi này, dưới đây bạn sẽ tính tỉ lệ (từ 0 đến 1) các \"Beat\" mà thuộc nhiều hơn một \"District\", và tỉ lệ các \"Beat\" mà thuộc nhiều hơn một \"CommunityArea\". Bạn lần lượt lưu các kết quả vào hai biến là `multi_district_ratio` và `multi_comarea_ratio`."
   ]
  },
  {
   "cell_type": "code",
   "execution_count": 20,
   "metadata": {
    "deletable": false,
    "nbgrader": {
     "cell_type": "code",
     "checksum": "2268d3a3d5426f2fcdb34418847b7b1f",
     "grade": false,
     "grade_id": "cell-f312e85b9123e0b0",
     "locked": false,
     "schema_version": 3,
     "solution": true,
     "task": false
    }
   },
   "outputs": [],
   "source": [
    "# YOUR CODE HERE\n",
    "# Tính tổng số lượng giá trị 'Beat' khác nhau \n",
    "number_unique = mvt_df['Beat'].unique().shape[0]\n",
    "\n",
    "# Tính số lần xuất hiện của từng cặp 'Beat'-'District'\n",
    "bea_dis_series = mvt_df.groupby(['Beat','District']).size()\n",
    "\n",
    "# Các giá trị index 'Beat' có số lần xuất hiện lớn hơn 1 tức có thuộc nhiều 'District'.\n",
    "mask = bea_dis_series.index.get_level_values(0).value_counts() > 1\n",
    "multi_district = mask.sum()\n",
    "\n",
    "multi_district_ratio = multi_district / number_unique\n",
    "\n",
    "\n",
    "# Tính số lần xuất hiện của từng cặp 'Beat'-'CommunityArea'\n",
    "bea_com_series = mvt_df.groupby(['Beat','CommunityArea']).size()\n",
    "\n",
    "# Các giá trị 'Beat' có số lần xuất hiện lớn hơn 1 tức có thuộc nhiều 'CommunityArea'.\n",
    "mask = bea_com_series.index.get_level_values(0).value_counts() > 1\n",
    "multi_comarea = mask.sum()\n",
    "\n",
    "multi_comarea_ratio = multi_comarea / number_unique"
   ]
  },
  {
   "cell_type": "code",
   "execution_count": 21,
   "metadata": {
    "deletable": false,
    "editable": false,
    "nbgrader": {
     "cell_type": "code",
     "checksum": "8a580613b075cfb45b2ef6de48d5ff5d",
     "grade": true,
     "grade_id": "cell-6faf22732c2063c1",
     "locked": true,
     "points": 1.25,
     "schema_version": 3,
     "solution": false,
     "task": false
    }
   },
   "outputs": [],
   "source": [
    "# TEST\n",
    "assert round(multi_district_ratio, 3) == 0.210\n",
    "assert round(multi_comarea_ratio, 3) == 0.603"
   ]
  },
  {
   "cell_type": "markdown",
   "metadata": {},
   "source": [
    "---"
   ]
  },
  {
   "cell_type": "markdown",
   "metadata": {},
   "source": [
    "## Đưa ra các câu hỏi cần trả lời"
   ]
  },
  {
   "cell_type": "markdown",
   "metadata": {},
   "source": [
    "Sau khi đã khám phá dữ liệu và hiểu hơn về dữ liệu, ta thấy có một số câu hỏi có thể được trả lời bằng dữ liệu:\n",
    "- Số lượng các vụ phạm tội thay đổi như thế nào theo năm?\n",
    "- Với các vụ án xảy ra ở mỗi năm, tỉ lệ bắt được thủ phạm tính đến thời điểm dữ liệu được thu thập là bao nhiêu?\n",
    "- Trong mỗi năm, \"Beat\" nào có nhiều vụ phạm tội nhất và \"Beat\" nào có ít vụ phạm tội nhất?\n",
    "- Trong 3 năm gần đây, 5 loại địa điểm nào (ngoài đường, chỗ đậu xe, ...) có nhiều vụ phạm tội nhất?\n",
    "- Trong mỗi năm của 3 năm gần đây, số lượng các vụ phạm tội thay đổi như thế nào theo tháng?\n",
    "\n",
    "Trong đồ án cuối kỳ, bạn sẽ phải suy nghĩ để đưa ra các câu hỏi có ý nghĩa và cũng phải giải thích để người đọc thấy được là câu hỏi có ý nghĩa. Trong bài tập này, mục đích chính là tập luyện các thao tác xử lý dữ liệu của Pandas nên mình không cần giải thích để người đọc thấy được là các câu hỏi có ý nghĩa. May quá 😉. "
   ]
  },
  {
   "cell_type": "markdown",
   "metadata": {},
   "source": [
    "---"
   ]
  },
  {
   "cell_type": "markdown",
   "metadata": {},
   "source": [
    "## Tiền xử lý"
   ]
  },
  {
   "cell_type": "markdown",
   "metadata": {},
   "source": [
    "### Thêm cột \"Month\" vào dataframe (0.5đ)"
   ]
  },
  {
   "cell_type": "markdown",
   "metadata": {},
   "source": [
    "Trong các câu hỏi ở trên, có câu cần đến thông tin về tháng của vụ phạm tội. Do đó, trước khi phân tích để trả lời cho các câu hỏi, bạn hãy tiền xử lý bằng cách thêm cột \"Month\" (tháng xảy ra vụ phạm tội) vào `mvt_df`. Sau khi thêm thì `mvt_df` phải thay đổi."
   ]
  },
  {
   "cell_type": "code",
   "execution_count": 22,
   "metadata": {
    "deletable": false,
    "nbgrader": {
     "cell_type": "code",
     "checksum": "787b5ee9b1bac081bc64c2b0a61da43d",
     "grade": false,
     "grade_id": "cell-b11a3d54448e8905",
     "locked": false,
     "schema_version": 3,
     "solution": true,
     "task": false
    }
   },
   "outputs": [],
   "source": [
    "# YOUR CODE HERE\n",
    "mvt_df['Month'] = mvt_df['Date'].dt.month"
   ]
  },
  {
   "cell_type": "code",
   "execution_count": 23,
   "metadata": {
    "deletable": false,
    "editable": false,
    "nbgrader": {
     "cell_type": "code",
     "checksum": "56696f03a8d9c1e4a407cc39e0b28e5a",
     "grade": true,
     "grade_id": "cell-6a301e064922ea1e",
     "locked": true,
     "points": 0.5,
     "schema_version": 3,
     "solution": false,
     "task": false
    }
   },
   "outputs": [],
   "source": [
    "# TEST\n",
    "assert mvt_df['Month'].min() == 1\n",
    "assert mvt_df['Month'].max() == 12"
   ]
  },
  {
   "cell_type": "markdown",
   "metadata": {},
   "source": [
    "---"
   ]
  },
  {
   "cell_type": "markdown",
   "metadata": {},
   "source": [
    "## Phân tích dữ liệu để trả lời cho các câu hỏi "
   ]
  },
  {
   "cell_type": "markdown",
   "metadata": {},
   "source": [
    "### Số lượng các vụ phạm tội thay đổi như thế nào theo năm? (0.75đ)\n",
    "\n",
    "Để trả lời cho câu hỏi này, bạn sẽ làm như sau:\n",
    "- Bước 1: Tính số vụ phạm tội của mỗi năm. Bạn lưu kết quả vào series `num_thefts_each_year`, trong đó index là năm.\n",
    "- Bước 2: Từ kết quả ở trên, bạn vẽ đồ thị dạng line, trong đó trục hoành là năm và trục tung là số lượng vụ phạm tội. Bạn dùng thêm marker là điểm tròn để cho thấy rõ các điểm dữ liệu. Bạn đặt tên trục hoành là \"Year\" và tên trục tung là \"NumThefts\"."
   ]
  },
  {
   "cell_type": "markdown",
   "metadata": {},
   "source": [
    "Code bước 1. "
   ]
  },
  {
   "cell_type": "code",
   "execution_count": 24,
   "metadata": {
    "deletable": false,
    "nbgrader": {
     "cell_type": "code",
     "checksum": "05fec7cb772d08bedb6ec735494daabf",
     "grade": false,
     "grade_id": "cell-ca92bcde951cbcd9",
     "locked": false,
     "schema_version": 3,
     "solution": true,
     "task": false
    }
   },
   "outputs": [
    {
     "data": {
      "text/plain": [
       "2001    20669\n",
       "2002    18753\n",
       "2003    16657\n",
       "2004    16862\n",
       "2005    16484\n",
       "2006    16098\n",
       "2007    14280\n",
       "2008    14445\n",
       "2009    12167\n",
       "2010    15497\n",
       "2011    15637\n",
       "2012    14092\n",
       "Name: Date, dtype: int64"
      ]
     },
     "execution_count": 24,
     "metadata": {},
     "output_type": "execute_result"
    }
   ],
   "source": [
    "# YOUR CODE HERE\n",
    "num_thefts_each_year = mvt_df['Date'].dt.year.value_counts()\n",
    "num_thefts_each_year = num_thefts_each_year.sort_index()\n",
    "num_thefts_each_year"
   ]
  },
  {
   "cell_type": "code",
   "execution_count": 25,
   "metadata": {
    "deletable": false,
    "editable": false,
    "nbgrader": {
     "cell_type": "code",
     "checksum": "fe83be47c3daa56e2e392cc416c03e35",
     "grade": true,
     "grade_id": "cell-10c1e16b0a2b2bf8",
     "locked": true,
     "points": 0.5,
     "schema_version": 3,
     "solution": false,
     "task": false
    }
   },
   "outputs": [],
   "source": [
    "# TEST\n",
    "assert num_thefts_each_year.loc[2001] == 20669\n",
    "assert num_thefts_each_year.loc[2012] == 14092"
   ]
  },
  {
   "cell_type": "markdown",
   "metadata": {},
   "source": [
    "Code bước 2. "
   ]
  },
  {
   "cell_type": "code",
   "execution_count": 26,
   "metadata": {
    "deletable": false,
    "nbgrader": {
     "cell_type": "code",
     "checksum": "f0c5966c75e665325d83f45dd5fcc9a9",
     "grade": true,
     "grade_id": "cell-c3f22e75a64dab00",
     "locked": false,
     "points": 0.25,
     "schema_version": 3,
     "solution": true,
     "task": false
    }
   },
   "outputs": [
    {
     "data": {
      "image/png": "[encoded data removed]",
      "text/plain": [
       "<Figure size 2000x800 with 1 Axes>"
      ]
     },
     "metadata": {},
     "output_type": "display_data"
    }
   ],
   "source": [
    "# YOUR CODE HERE\n",
    "plt.figure(figsize=(20,8))\n",
    "sns.lineplot(x=num_thefts_each_year.index, y=num_thefts_each_year, marker='o', linewidth=3, markersize=10)\n",
    "\n",
    "plt.xticks((num_thefts_each_year.index))\n",
    "plt.title('Change in number of thefts over the years',fontsize=16)\n",
    "plt.xlabel('Year',fontsize=16)\n",
    "plt.ylabel('NumThefts',fontsize=16)\n",
    "plt.grid(True)\n",
    "plt.show()"
   ]
  },
  {
   "cell_type": "markdown",
   "metadata": {},
   "source": [
    "Hmm, ở Mỹ, năm 2008-2009 xảy ra cuộc khủng hoảng kinh tế, không biết có liên quan gì không ..."
   ]
  },
  {
   "cell_type": "markdown",
   "metadata": {},
   "source": [
    "### Với các vụ án xảy ra ở mỗi năm, tỉ lệ bắt được thủ phạm tính đến thời điểm dữ liệu được thu thập là bao nhiêu? (1.25đ)\n",
    "\n",
    "Để trả lời cho câu hỏi này, bạn sẽ làm như sau:\n",
    "- Bước 1: Tính tỉ lệ (từ 0 đến 1) bắt được thủ phạm của mỗi năm (năm ở đây là năm xảy ra các vụ phạm tội, còn bắt được hay không bắt được là tính tới thời điểm dữ liệu được thu thập). Bạn lưu kết quả vào series `arrest_ratio_each_year`, trong đó index là năm.\n",
    "- Bước 2: Từ kết quả ở trên, bạn vẽ đồ thị dạng line, trong đó trục hoành là năm và trục tung là tỉ lệ bị bắt. Bạn dùng thêm marker là điểm tròn để cho thấy rõ các điểm dữ liệu. Bạn đặt tên trục hoành là \"Year\" và tên trục tung là \"ArrestRatio\". Ngoài ra, bạn cũng cần chỉnh miền giá trị của trục tung là từ 0 đến 1."
   ]
  },
  {
   "cell_type": "markdown",
   "metadata": {},
   "source": [
    "Code bước 1. "
   ]
  },
  {
   "cell_type": "code",
   "execution_count": 27,
   "metadata": {
    "deletable": false,
    "nbgrader": {
     "cell_type": "code",
     "checksum": "b4716751342c988dcc4536b763d16cd5",
     "grade": false,
     "grade_id": "cell-129a07978e3c0de1",
     "locked": false,
     "schema_version": 3,
     "solution": true,
     "task": false
    }
   },
   "outputs": [],
   "source": [
    "# YOUR CODE HERE\n",
    "# Lọc các index là bị bắt\n",
    "mask = mvt_df['Arrest'] ==  True\n",
    "#Lấy năm tại các index là bị bắt và tính số lượng bị bắt mỗi năm\n",
    "arrest_each_year = mvt_df.loc[mask,'Date'].dt.year.value_counts()\n",
    "arrest_each_year = arrest_each_year.sort_index()\n",
    "\n",
    "arrest_ratio_each_year = arrest_each_year/num_thefts_each_year"
   ]
  },
  {
   "cell_type": "code",
   "execution_count": 28,
   "metadata": {
    "deletable": false,
    "editable": false,
    "nbgrader": {
     "cell_type": "code",
     "checksum": "051d560caefafe48a5ada18a3472b635",
     "grade": true,
     "grade_id": "cell-81a06dfa2c96900c",
     "locked": true,
     "points": 0.75,
     "schema_version": 3,
     "solution": false,
     "task": false
    }
   },
   "outputs": [],
   "source": [
    "# TEST\n",
    "assert round(arrest_ratio_each_year.loc[2001], 3) == 0.104\n",
    "assert round(arrest_ratio_each_year.loc[2012], 3) == 0.039"
   ]
  },
  {
   "cell_type": "markdown",
   "metadata": {},
   "source": [
    "Code bước 2. "
   ]
  },
  {
   "cell_type": "code",
   "execution_count": 29,
   "metadata": {
    "deletable": false,
    "nbgrader": {
     "cell_type": "code",
     "checksum": "3624cec51e611f66943119aa5a2b3638",
     "grade": true,
     "grade_id": "cell-fe3eae5b8130e5ec",
     "locked": false,
     "points": 0.25,
     "schema_version": 3,
     "solution": true,
     "task": false
    }
   },
   "outputs": [
    {
     "data": {
      "image/png": "[encoded data removed]",
      "text/plain": [
       "<Figure size 2000x800 with 1 Axes>"
      ]
     },
     "metadata": {},
     "output_type": "display_data"
    }
   ],
   "source": [
    "# YOUR CODE HERE\n",
    "plt.figure(figsize=(20,8))\n",
    "sns.lineplot(x=arrest_ratio_each_year.index, y=arrest_ratio_each_year, marker='o', linewidth=3, markersize=10)\n",
    "\n",
    "plt.xticks(arrest_ratio_each_year.index)\n",
    "# plt.yticks(np.arange(0,1,0.01))\n",
    "\n",
    "plt.title('Change in arrest ratio each year',fontsize=16)\n",
    "plt.xlabel('Year',fontsize=16)\n",
    "plt.ylabel('ArrestRatio',fontsize=16)\n",
    "plt.grid(True)\n",
    "plt.show()"
   ]
  },
  {
   "cell_type": "markdown",
   "metadata": {},
   "source": [
    "Bạn sẽ thấy tỉ lệ bị bắt nhìn chung là giảm trong các năm gần đây. Tại sao lại như vậy? Nói chung là ta không biết chắc được. Nhưng bạn thử suy nghĩ và đưa ra một giả thuyết để giải thích cho xu hướng này dựa vào thông tin sau: năm ở đây là năm xảy ra vụ phạm tội, bắt được hay không bắt được là tính đến thời điểm dữ liệu được thu thập (dữ liệu này được thu thập vào khoảng năm 2012-2013, là thời điểm mở của khóa học \"The Analytics Edge\")."
   ]
  },
  {
   "cell_type": "markdown",
   "metadata": {
    "deletable": false,
    "nbgrader": {
     "cell_type": "markdown",
     "checksum": "f21cea3600714c64427a488015695010",
     "grade": true,
     "grade_id": "cell-d91e2d8fd4045ebb",
     "locked": false,
     "points": 0.25,
     "schema_version": 3,
     "solution": true,
     "task": false
    }
   },
   "source": [
    "YOUR ANSWER HERE\n",
    "\n",
    "**Theo em thì tỉ lệ bị bắt giảm trong các năm gần đây là vì:** để bắt được tội phạm thì cần thời gian điều tra hoặc tên trộm lẩn trốn nên tốn thời gian dài mới bắt được vì thế càng gần thời dữ liệu được thu thập thì số vụ bị bắt càng giảm xuống"
   ]
  },
  {
   "cell_type": "markdown",
   "metadata": {},
   "source": [
    "###  Trong mỗi năm, \"Beat\" nào có nhiều vụ phạm tội nhất và \"Beat\" nào có ít vụ phạm tội nhất? (0.75đ)\n",
    "\n",
    "Bạn lưu kết quả vào dataframe `two_beats_each_year_df`. Dataframe này có 12 dòng ứng với 12 năm là 2001, 2002, ..., 2012; và có 2 cột là \"SafeBeat\" (\"Beat\" có ít vụ phạm tội nhất) và \"DangerousBeat\" (\"Beat\" có nhiều vụ phạm tội nhất)."
   ]
  },
  {
   "cell_type": "code",
   "execution_count": 30,
   "metadata": {
    "deletable": false,
    "nbgrader": {
     "cell_type": "code",
     "checksum": "5cd5cba0a2fddc31f015a38d3f8fe44e",
     "grade": false,
     "grade_id": "cell-7ef114a2b6ffaad2",
     "locked": false,
     "schema_version": 3,
     "solution": true,
     "task": false
    }
   },
   "outputs": [
    {
     "data": {
      "text/html": [
       "<div>\n",
       "<style scoped>\n",
       "    .dataframe tbody tr th:only-of-type {\n",
       "        vertical-align: middle;\n",
       "    }\n",
       "\n",
       "    .dataframe tbody tr th {\n",
       "        vertical-align: top;\n",
       "    }\n",
       "\n",
       "    .dataframe thead th {\n",
       "        text-align: right;\n",
       "    }\n",
       "</style>\n",
       "<table border=\"1\" class=\"dataframe\">\n",
       "  <thead>\n",
       "    <tr style=\"text-align: right;\">\n",
       "      <th></th>\n",
       "      <th>SafeBeat</th>\n",
       "      <th>DangerousBeat</th>\n",
       "    </tr>\n",
       "    <tr>\n",
       "      <th>Year</th>\n",
       "      <th></th>\n",
       "      <th></th>\n",
       "    </tr>\n",
       "  </thead>\n",
       "  <tbody>\n",
       "    <tr>\n",
       "      <th>2001</th>\n",
       "      <td>134</td>\n",
       "      <td>833</td>\n",
       "    </tr>\n",
       "    <tr>\n",
       "      <th>2002</th>\n",
       "      <td>1833</td>\n",
       "      <td>833</td>\n",
       "    </tr>\n",
       "    <tr>\n",
       "      <th>2003</th>\n",
       "      <td>123</td>\n",
       "      <td>815</td>\n",
       "    </tr>\n",
       "    <tr>\n",
       "      <th>2004</th>\n",
       "      <td>1914</td>\n",
       "      <td>2413</td>\n",
       "    </tr>\n",
       "    <tr>\n",
       "      <th>2005</th>\n",
       "      <td>130</td>\n",
       "      <td>1723</td>\n",
       "    </tr>\n",
       "    <tr>\n",
       "      <th>2006</th>\n",
       "      <td>123</td>\n",
       "      <td>831</td>\n",
       "    </tr>\n",
       "    <tr>\n",
       "      <th>2007</th>\n",
       "      <td>112</td>\n",
       "      <td>823</td>\n",
       "    </tr>\n",
       "    <tr>\n",
       "      <th>2008</th>\n",
       "      <td>235</td>\n",
       "      <td>831</td>\n",
       "    </tr>\n",
       "    <tr>\n",
       "      <th>2009</th>\n",
       "      <td>1235</td>\n",
       "      <td>2512</td>\n",
       "    </tr>\n",
       "    <tr>\n",
       "      <th>2010</th>\n",
       "      <td>121</td>\n",
       "      <td>823</td>\n",
       "    </tr>\n",
       "    <tr>\n",
       "      <th>2011</th>\n",
       "      <td>114</td>\n",
       "      <td>912</td>\n",
       "    </tr>\n",
       "    <tr>\n",
       "      <th>2012</th>\n",
       "      <td>134</td>\n",
       "      <td>824</td>\n",
       "    </tr>\n",
       "  </tbody>\n",
       "</table>\n",
       "</div>"
      ],
      "text/plain": [
       "      SafeBeat  DangerousBeat\n",
       "Year                         \n",
       "2001       134            833\n",
       "2002      1833            833\n",
       "2003       123            815\n",
       "2004      1914           2413\n",
       "2005       130           1723\n",
       "2006       123            831\n",
       "2007       112            823\n",
       "2008       235            831\n",
       "2009      1235           2512\n",
       "2010       121            823\n",
       "2011       114            912\n",
       "2012       134            824"
      ]
     },
     "execution_count": 30,
     "metadata": {},
     "output_type": "execute_result"
    }
   ],
   "source": [
    "# YOUR CODE HERE\n",
    "#Thêm cột 'Year'\n",
    "mvt_df['Year'] = mvt_df['Date'].dt.year\n",
    "\n",
    "#Gom nhóm 'Year'-'Beat' và tính số lần xuất hiện mỗi cặp\n",
    "gr_year_beat = mvt_df.groupby(['Year','Beat']).size()\n",
    "# Chuyển 'Year'-'Beat' thành column trong df \n",
    "gr_year_beat = gr_year_beat.reset_index()\n",
    "\n",
    "\n",
    "# Gom nhóm Year và lấy vị trí idx min ở cột 0 trong từng cụm Year \n",
    "idx_serie = gr_year_beat.groupby('Year')[0].idxmin()\n",
    "#Từ idx có ta lấy được các cặp Beat-Year có số vụ tội nhỏ nhất \n",
    "min_beats_each_year_df = gr_year_beat.loc[idx_serie,['Year','Beat']]\n",
    "min_beats_each_year_df.set_index('Year',inplace=True)\n",
    "\n",
    "# Tương tự cho DangerousBeat\n",
    "idx_serie = gr_year_beat.groupby('Year')[0].idxmax()\n",
    "max_beats_each_year_df = gr_year_beat.loc[idx_serie,['Year','Beat']]\n",
    "max_beats_each_year_df.set_index('Year',inplace=True)\n",
    "\n",
    "#Ghép hai df trên ta được kq\n",
    "two_beats_each_year_df = pd.concat([min_beats_each_year_df,max_beats_each_year_df], axis = 1)\n",
    "two_beats_each_year_df.set_axis(['SafeBeat','DangerousBeat'], axis = 1, inplace= True)\n",
    "two_beats_each_year_df"
   ]
  },
  {
   "cell_type": "code",
   "execution_count": 31,
   "metadata": {
    "deletable": false,
    "editable": false,
    "nbgrader": {
     "cell_type": "code",
     "checksum": "3cc248e2ece08599ad1478d31504a355",
     "grade": true,
     "grade_id": "cell-7bab4fca5fec8531",
     "locked": true,
     "points": 0.75,
     "schema_version": 3,
     "solution": false,
     "task": false
    }
   },
   "outputs": [],
   "source": [
    "# TEST\n",
    "df = two_beats_each_year_df\n",
    "assert df.loc[2001, 'SafeBeat'] == 134\n",
    "assert df.loc[2001, 'DangerousBeat'] == 833\n",
    "assert df.loc[2012, 'SafeBeat'] in [134, 2122, 2322, 2324]\n",
    "assert df.loc[2012, 'DangerousBeat'] == 824"
   ]
  },
  {
   "cell_type": "markdown",
   "metadata": {},
   "source": [
    "### Trong 3 năm gần đây, 5 loại địa điểm nào (ngoài đường, chỗ đậu xe, ...) có nhiều vụ phạm tội nhất? (0.75đ)\n",
    "\n",
    "Loại địa điểm ở đây được lưu trong cột \"LocationDescription\". Năm loại địa điểm trong câu hỏi là không tính \"OTHER\". Bạn lưu kết quả vào list `top5_locs` theo thứ tự phần tử đầu tiên là có nhiều vụ phạm tội nhất, phần tử thứ hai là có nhiều vụ phạm tội nhì, ..."
   ]
  },
  {
   "cell_type": "code",
   "execution_count": 32,
   "metadata": {
    "deletable": false,
    "nbgrader": {
     "cell_type": "code",
     "checksum": "1ccfcbae3d8afb90cf3d8aeba2e7e46d",
     "grade": false,
     "grade_id": "cell-9f05d5d157d6c417",
     "locked": false,
     "schema_version": 3,
     "solution": true,
     "task": false
    }
   },
   "outputs": [],
   "source": [
    "# YOUR CODE HERE\n",
    "# Năm gần nhất 2012 -> 3 năm gần nhất bắt đầu từ 2010\n",
    "mask = mvt_df['Year'] >= 2010\n",
    "freq_loc_series = mvt_df.loc[mask, 'LocationDescription'].value_counts()\n",
    "freq_loc_series = freq_loc_series.drop('OTHER')\n",
    "freq_loc_series = freq_loc_series[:5]\n",
    "top5_locs = freq_loc_series.index.to_list()"
   ]
  },
  {
   "cell_type": "code",
   "execution_count": 33,
   "metadata": {
    "deletable": false,
    "editable": false,
    "nbgrader": {
     "cell_type": "code",
     "checksum": "6da6fbe24fa05dafa3db51a3a46dd815",
     "grade": true,
     "grade_id": "cell-5e91bd1e3d1aceec",
     "locked": true,
     "points": 0.75,
     "schema_version": 3,
     "solution": false,
     "task": false
    }
   },
   "outputs": [],
   "source": [
    "# TEST\n",
    "assert top5_locs == ['STREET', \n",
    "                     'PARKING LOT/GARAGE(NON.RESID.)', \n",
    "                     'RESIDENTIAL YARD (FRONT/BACK)', \n",
    "                     'VEHICLE NON-COMMERCIAL', \n",
    "                     'ALLEY']"
   ]
  },
  {
   "cell_type": "markdown",
   "metadata": {},
   "source": [
    "### Trong mỗi năm của 3 năm gần đây, số lượng các vụ phạm tội thay đổi như thế nào theo tháng? (1đ)\n",
    "\n",
    "Để trả lời cho câu hỏi này, bạn sẽ làm như sau:\n",
    "- Bước 1: Tính dataframe `num_thefts_each_month_df` gồm có 3 cột (tên là 2010, 2011, 2012) ứng với số lượng vụ phạm tội theo các tháng của 3 năm, và 12 dòng (tên là 1, 2, ..., 12) ứng với 12 tháng.  \n",
    "- Bước 2: Từ kết quả ở trên, bạn vẽ 3 đường dạng line (ứng với 3 năm) trên cùng một đồ thị, trong đó trục hoành là tháng và trục tung là số lượng vụ phạm tội. Bạn dùng thêm marker là điểm tròn để cho thấy rõ các điểm dữ liệu. Bạn đặt tên trục hoành là \"Month\" và tên trục tung là \"NumThefts\". Bạn cũng cần dùng legend để ghi chú là đường nào thì ứng với năm nào."
   ]
  },
  {
   "cell_type": "markdown",
   "metadata": {},
   "source": [
    "Code bước 1. "
   ]
  },
  {
   "cell_type": "code",
   "execution_count": 34,
   "metadata": {
    "deletable": false,
    "nbgrader": {
     "cell_type": "code",
     "checksum": "5ae6b11e2939994396ea81a514e5100e",
     "grade": false,
     "grade_id": "cell-8199894515a93739",
     "locked": false,
     "schema_version": 3,
     "solution": true,
     "task": false
    }
   },
   "outputs": [
    {
     "data": {
      "text/html": [
       "<div>\n",
       "<style scoped>\n",
       "    .dataframe tbody tr th:only-of-type {\n",
       "        vertical-align: middle;\n",
       "    }\n",
       "\n",
       "    .dataframe tbody tr th {\n",
       "        vertical-align: top;\n",
       "    }\n",
       "\n",
       "    .dataframe thead th {\n",
       "        text-align: right;\n",
       "    }\n",
       "</style>\n",
       "<table border=\"1\" class=\"dataframe\">\n",
       "  <thead>\n",
       "    <tr style=\"text-align: right;\">\n",
       "      <th></th>\n",
       "      <th>2010</th>\n",
       "      <th>2011</th>\n",
       "      <th>2012</th>\n",
       "    </tr>\n",
       "  </thead>\n",
       "  <tbody>\n",
       "    <tr>\n",
       "      <th>1</th>\n",
       "      <td>1278</td>\n",
       "      <td>1508</td>\n",
       "      <td>1253</td>\n",
       "    </tr>\n",
       "    <tr>\n",
       "      <th>2</th>\n",
       "      <td>883</td>\n",
       "      <td>1049</td>\n",
       "      <td>1019</td>\n",
       "    </tr>\n",
       "    <tr>\n",
       "      <th>3</th>\n",
       "      <td>1115</td>\n",
       "      <td>1355</td>\n",
       "      <td>1187</td>\n",
       "    </tr>\n",
       "    <tr>\n",
       "      <th>4</th>\n",
       "      <td>1146</td>\n",
       "      <td>1373</td>\n",
       "      <td>1132</td>\n",
       "    </tr>\n",
       "    <tr>\n",
       "      <th>5</th>\n",
       "      <td>1394</td>\n",
       "      <td>1447</td>\n",
       "      <td>1231</td>\n",
       "    </tr>\n",
       "    <tr>\n",
       "      <th>6</th>\n",
       "      <td>1203</td>\n",
       "      <td>1443</td>\n",
       "      <td>1238</td>\n",
       "    </tr>\n",
       "    <tr>\n",
       "      <th>7</th>\n",
       "      <td>1261</td>\n",
       "      <td>1384</td>\n",
       "      <td>1166</td>\n",
       "    </tr>\n",
       "    <tr>\n",
       "      <th>8</th>\n",
       "      <td>1301</td>\n",
       "      <td>1227</td>\n",
       "      <td>1126</td>\n",
       "    </tr>\n",
       "    <tr>\n",
       "      <th>9</th>\n",
       "      <td>1420</td>\n",
       "      <td>1143</td>\n",
       "      <td>1082</td>\n",
       "    </tr>\n",
       "    <tr>\n",
       "      <th>10</th>\n",
       "      <td>1447</td>\n",
       "      <td>1194</td>\n",
       "      <td>1180</td>\n",
       "    </tr>\n",
       "    <tr>\n",
       "      <th>11</th>\n",
       "      <td>1469</td>\n",
       "      <td>1269</td>\n",
       "      <td>1231</td>\n",
       "    </tr>\n",
       "    <tr>\n",
       "      <th>12</th>\n",
       "      <td>1580</td>\n",
       "      <td>1245</td>\n",
       "      <td>1247</td>\n",
       "    </tr>\n",
       "  </tbody>\n",
       "</table>\n",
       "</div>"
      ],
      "text/plain": [
       "    2010  2011  2012\n",
       "1   1278  1508  1253\n",
       "2    883  1049  1019\n",
       "3   1115  1355  1187\n",
       "4   1146  1373  1132\n",
       "5   1394  1447  1231\n",
       "6   1203  1443  1238\n",
       "7   1261  1384  1166\n",
       "8   1301  1227  1126\n",
       "9   1420  1143  1082\n",
       "10  1447  1194  1180\n",
       "11  1469  1269  1231\n",
       "12  1580  1245  1247"
      ]
     },
     "execution_count": 34,
     "metadata": {},
     "output_type": "execute_result"
    }
   ],
   "source": [
    "# YOUR CODE HERE\n",
    "mask = mvt_df['Year'] >= 2010\n",
    "# Gom nhóm 'Year', 'Month' và tính số lần xuất hiện của từng cặp\n",
    "num_thefts_each_month_serie = mvt_df[mask].groupby(['Year','Month']).size()\n",
    "\n",
    "# Convert series sang array shape(3,12) tương tự df cần tìm\n",
    "num_thefts_each_moth_array = num_thefts_each_month_serie.values.reshape(3,12)\n",
    "\n",
    "# Tạo df từ array trên và chuyển vị df để thỏa yêu cầu\n",
    "num_thefts_each_month_df = pd.DataFrame(data=num_thefts_each_moth_array, index=[2010,2011,2012])\n",
    "num_thefts_each_month_df = num_thefts_each_month_df.T\n",
    "num_thefts_each_month_df.index = num_thefts_each_month_df.index + 1\n",
    "\n",
    "\n",
    "num_thefts_each_month_df"
   ]
  },
  {
   "cell_type": "code",
   "execution_count": 35,
   "metadata": {
    "deletable": false,
    "editable": false,
    "nbgrader": {
     "cell_type": "code",
     "checksum": "1843e7bb6c3341a6c4929e44e8de29f3",
     "grade": true,
     "grade_id": "cell-1b37c024f3bf33e9",
     "locked": true,
     "points": 0.75,
     "schema_version": 3,
     "solution": false,
     "task": false
    }
   },
   "outputs": [],
   "source": [
    "# TEST\n",
    "df = num_thefts_each_month_df\n",
    "assert df.shape == (12, 3)\n",
    "assert df.loc[1, 2010] == 1278\n",
    "assert df.loc[1, 2011] == 1508\n",
    "assert df.loc[1, 2012] == 1253"
   ]
  },
  {
   "cell_type": "markdown",
   "metadata": {},
   "source": [
    "Code bước 2. "
   ]
  },
  {
   "cell_type": "code",
   "execution_count": 36,
   "metadata": {
    "deletable": false,
    "nbgrader": {
     "cell_type": "code",
     "checksum": "1c9d18a5ba82268dffbece405ddd2fac",
     "grade": true,
     "grade_id": "cell-443fcd8b92392f58",
     "locked": false,
     "points": 0.25,
     "schema_version": 3,
     "solution": true,
     "task": false
    }
   },
   "outputs": [
    {
     "data": {
      "image/png": "[encoded data removed]",
      "text/plain": [
       "<Figure size 2000x800 with 1 Axes>"
      ]
     },
     "metadata": {},
     "output_type": "display_data"
    }
   ],
   "source": [
    "# YOUR CODE HERE\n",
    "plt.figure(figsize=(20,8))\n",
    "sns.lineplot(data=num_thefts_each_month_df, marker='o', linewidth=3, markersize=10)\n",
    "\n",
    "plt.xticks(np.arange(1,13,1))\n",
    "\n",
    "plt.xlabel('Month',fontsize=16)\n",
    "plt.ylabel('NumThefts',fontsize=16)\n",
    "\n",
    "plt.legend(loc=4, shadow=True, fontsize='xx-large')\n",
    "plt.grid(True)\n",
    "plt.show()"
   ]
  },
  {
   "cell_type": "markdown",
   "metadata": {},
   "source": [
    "Hmm ... xong Lab 3 rồi đó các bạn. Chúc các bạn làm đồ án vui vẻ 😉."
   ]
  }
 ],
 "metadata": {
  "kernelspec": {
   "display_name": "Python 3 (ipykernel)",
   "language": "python",
   "name": "python3"
  },
  "language_info": {
   "codemirror_mode": {
    "name": "ipython",
    "version": 3
   },
   "file_extension": ".py",
   "mimetype": "text/x-python",
   "name": "python",
   "nbconvert_exporter": "python",
   "pygments_lexer": "ipython3",
   "version": "3.8.8"
  },
  "toc": {
   "base_numbering": 1,
   "nav_menu": {},
   "number_sections": false,
   "sideBar": true,
   "skip_h1_title": false,
   "title_cell": "Table of Contents",
   "title_sidebar": "Contents",
   "toc_cell": false,
   "toc_position": {
    "height": "calc(100% - 180px)",
    "left": "10px",
    "top": "150px",
    "width": "240px"
   },
   "toc_section_display": true,
   "toc_window_display": true
  },
  "vscode": {
   "interpreter": {
    "hash": "e7370f93d1d0cde622a1f8e1c04877d8463912d04d973331ad4851f04de6915a"
   }
  }
 },
 "nbformat": 4,
 "nbformat_minor": 4
}
